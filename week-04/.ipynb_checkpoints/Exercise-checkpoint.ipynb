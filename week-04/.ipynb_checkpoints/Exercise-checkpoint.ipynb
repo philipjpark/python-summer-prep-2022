{
 "cells": [
  {
   "cell_type": "markdown",
   "metadata": {},
   "source": [
    "# List Overlap \n",
    "Write a program that returns a list that contains only the elements that are common between the lists (without duplicates). Make sure your program works on two lists of different sizes."
   ]
  },
  {
   "cell_type": "code",
   "execution_count": null,
   "metadata": {},
   "outputs": [],
   "source": [
    "a = [1, 1, 2, 3, 5, 8, 13, 21, 34, 55, 89]\n",
    "b = [1, 2, 3, 4, 5, 6, 7, 8, 9, 10, 11, 12, 13]\n",
    "\n",
    "list(set(a).intersection(b))\n"
   ]
  },
  {
   "cell_type": "markdown",
   "metadata": {},
   "source": [
    "# Rock Paper Scissors\n",
    "\n",
    "Make a two-player Rock-Paper-Scissors game. (Hint: Ask for player plays (using input), compare them, print out a message of congratulations to the winner.)\n",
    "\n",
    "Remember the rules:\n",
    "\n",
    "* Rock beats scissors\n",
    "* Scissors beats paper\n",
    "* Paper beats rock"
   ]
  },
  {
   "cell_type": "code",
   "execution_count": 12,
   "metadata": {},
   "outputs": [
    {
     "name": "stdout",
     "output_type": "stream",
     "text": [
      "Player 1 Choose: rock\n",
      "Player 2 Choose: scissors\n",
      "Congrats Player 1! You are the winner!\n"
     ]
    }
   ],
   "source": [
    "r = \"Rock\"\n",
    "s = \"Scissors\"\n",
    "p = \"Paper\"\n",
    "\n",
    "player1 = input(\"Player 1 Choose: \").title()\n",
    "player2 = input(\"Player 2 Choose: \").title()\n",
    "\n",
    "\n",
    "if player1 == player2:\n",
    "    print(\"It's a tie!\")\n",
    "elif player1 == r and player2 == p:\n",
    "    print(\"Congrats Player 2! You are the winner!\")\n",
    "elif player1 == r and player2== s:\n",
    "    print(\"Congrats Player 1! You are the winner!\")\n",
    "elif player1 == s and player2 == p:\n",
    "    print(\"Congrats Player 1! You are the winner!\")\n",
    "elif player1 == s and player2 == r:\n",
    "    print(\"Congrats Player 2! You are the winner!\")\n",
    "elif player1 == p and player2 == r:\n",
    "    print(\"Congrats Player 1! You are the winner!\")\n",
    "elif player1 == p and player2 == s:\n",
    "    print(\"Congrats Player 2! You are the winner!\")\n",
    "else:\n",
    "    print(\"There is an error!\")"
   ]
  },
  {
   "cell_type": "markdown",
   "metadata": {},
   "source": [
    "# Palindrome \n",
    "\n",
    "Ask the user for a string and print out whether this string is a palindrome or not. (A palindrome is a string that reads the same forwards and backwards.)"
   ]
  },
  {
   "cell_type": "code",
   "execution_count": null,
   "metadata": {},
   "outputs": [],
   "source": [
    "word = input(\"Please type a word: \").upper()\n",
    "reverse = word[::-1]\n",
    "\n",
    "if word == reverse:\n",
    "    print(\"Yup, this is a palindrome!\")\n",
    "else:\n",
    "    print(\"Nope, this is not a palindrome.\")"
   ]
  },
  {
   "cell_type": "markdown",
   "metadata": {},
   "source": [
    "# Password Generator\n",
    "Write a password generator in Python. Be creative with how you generate passwords - strong passwords have a mix of lowercase letters, uppercase letters, numbers, and symbols. The passwords should be random.  Ask the user to input how long they want their password to be. "
   ]
  },
  {
   "cell_type": "code",
   "execution_count": 7,
   "metadata": {},
   "outputs": [
    {
     "name": "stdout",
     "output_type": "stream",
     "text": [
      "Enter password length: 6\n",
      "l^xit2\n"
     ]
    }
   ],
   "source": [
    "import random\n",
    "\n",
    "chars = list(\"abcdefghijklmnopqrstuvwxyz01234567890ABCDEFGHIJKLMNOPQRSTUVWXYZ!@#$%^&*()?\")\n",
    "\n",
    "\n",
    "## characters to generate password from\n",
    "#characters = list(string.ascii_letters + string.digits + \"!@#$%^&*()\")\n",
    "\n",
    "def random_password():\n",
    "    len = int(input(\"Enter password length: \"))\n",
    "\n",
    "    random.shuffle(chars)\n",
    "    password = []\n",
    "    for i in range(len):\n",
    "        password.append(random.choice(chars))\n",
    "\n",
    "    random.shuffle(password)\n",
    "    print(\"\".join(password))\n",
    "\n",
    "random_password()\n",
    "\n",
    "\n",
    "\n"
   ]
  },
  {
   "cell_type": "markdown",
   "metadata": {},
   "source": [
    "# Divisors Solutions\n",
    "\n",
    "Create a program that asks the user for a number and then prints out a list of all the divisors of that number. (If you don’t know what a divisor is, it is a number that divides evenly into another number. For example, 13 is a divisor of 26 because 26 / 13 has no remainder.)"
   ]
  },
  {
   "cell_type": "code",
   "execution_count": 7,
   "metadata": {},
   "outputs": [
    {
     "name": "stdout",
     "output_type": "stream",
     "text": [
      "Enter a Number and the Divisors will be printed out: 100\n",
      "1\n",
      "2\n",
      "4\n",
      "5\n",
      "10\n",
      "20\n",
      "25\n",
      "50\n",
      "100\n"
     ]
    }
   ],
   "source": [
    "    num= int(input(\"Enter a Number and the Divisors will be printed out: \"))\n",
    "    i= 1\n",
    "    while i<((num/2)+1):\n",
    "        if num % i==0:\n",
    "            print(i)\n",
    "        i+=1\n",
    "    try:\n",
    "        print(num)\n",
    "    except:\n",
    "        print(\"Wrong Input.\")"
   ]
  },
  {
   "cell_type": "markdown",
   "metadata": {},
   "source": [
    "# Missing Character\n",
    "Given a non-empty string and an int n, return a new string where the char at index n has been removed. The value of n will be a valid index of a char in the original string (i.e. n will be in the range 0..len(str)-1 inclusive).\n",
    "\n",
    "```\n",
    "missing_char('kitten', 1) → 'ktten'\n",
    "missing_char('kitten', 0) → 'itten'\n",
    "missing_char('kitten', 4) → 'kittn'\n",
    "\n",
    "```"
   ]
  },
  {
   "cell_type": "code",
   "execution_count": 6,
   "metadata": {},
   "outputs": [
    {
     "name": "stdout",
     "output_type": "stream",
     "text": [
      "ktten\n",
      "itten\n",
      "kittn\n"
     ]
    }
   ],
   "source": [
    "def missing_char(word, n):\n",
    "    return word.replace(word[n],\"\",1)\n",
    "\n",
    "print(missing_char('kitten', 1))\n",
    "print(missing_char('kitten', 0))\n",
    "print(missing_char('kitten', 4))"
   ]
  },
  {
   "cell_type": "markdown",
   "metadata": {},
   "source": [
    "# Centered Average\n",
    "\n",
    "Return the \"centered\" average of an array of ints, which we'll say is the mean average of the values, except ignoring the largest and smallest values in the array. If there are multiple copies of the smallest value, ignore just one copy, and likewise for the largest value.  You may assume that the array is length 3 or more and will never contain negative values. \n",
    "* Round your answer to the nearest whole number.\n",
    "\n",
    "```\n",
    "centered_average([1, 2, 3, 4, 100]) → 3\n",
    "centered_average([1, 1, 5, 5, 10, 8, 7]) → 5\n",
    "```"
   ]
  },
  {
   "cell_type": "code",
   "execution_count": 15,
   "metadata": {},
   "outputs": [
    {
     "ename": "AttributeError",
     "evalue": "'function' object has no attribute 'pop'",
     "output_type": "error",
     "traceback": [
      "\u001b[1;31m---------------------------------------------------------------------------\u001b[0m",
      "\u001b[1;31mAttributeError\u001b[0m                            Traceback (most recent call last)",
      "\u001b[1;32m~\\AppData\\Local\\Temp/ipykernel_12172/4045675001.py\u001b[0m in \u001b[0;36m<module>\u001b[1;34m\u001b[0m\n\u001b[0;32m     16\u001b[0m     \u001b[1;32mreturn\u001b[0m \u001b[0mavg\u001b[0m\u001b[1;33m\u001b[0m\u001b[1;33m\u001b[0m\u001b[0m\n\u001b[0;32m     17\u001b[0m \u001b[1;33m\u001b[0m\u001b[0m\n\u001b[1;32m---> 18\u001b[1;33m \u001b[0mcentered_average\u001b[0m\u001b[1;33m(\u001b[0m\u001b[0mexample_list\u001b[0m\u001b[1;33m)\u001b[0m\u001b[1;33m\u001b[0m\u001b[1;33m\u001b[0m\u001b[0m\n\u001b[0m",
      "\u001b[1;32m~\\AppData\\Local\\Temp/ipykernel_12172/4045675001.py\u001b[0m in \u001b[0;36mcentered_average\u001b[1;34m(val)\u001b[0m\n\u001b[0;32m      9\u001b[0m     \u001b[0mmaximum\u001b[0m \u001b[1;33m=\u001b[0m \u001b[0mmax\u001b[0m\u001b[1;33m(\u001b[0m\u001b[0mval\u001b[0m\u001b[1;33m)\u001b[0m\u001b[1;33m\u001b[0m\u001b[1;33m\u001b[0m\u001b[0m\n\u001b[0;32m     10\u001b[0m \u001b[1;33m\u001b[0m\u001b[0m\n\u001b[1;32m---> 11\u001b[1;33m     \u001b[0minput\u001b[0m\u001b[1;33m.\u001b[0m\u001b[0mpop\u001b[0m\u001b[1;33m(\u001b[0m\u001b[0minput\u001b[0m\u001b[1;33m.\u001b[0m\u001b[0mindex\u001b[0m\u001b[1;33m(\u001b[0m\u001b[0mminimum\u001b[0m\u001b[1;33m)\u001b[0m\u001b[1;33m)\u001b[0m\u001b[1;33m\u001b[0m\u001b[1;33m\u001b[0m\u001b[0m\n\u001b[0m\u001b[0;32m     12\u001b[0m     \u001b[0minput\u001b[0m\u001b[1;33m.\u001b[0m\u001b[0mpop\u001b[0m\u001b[1;33m(\u001b[0m\u001b[0minput\u001b[0m\u001b[1;33m.\u001b[0m\u001b[0mindex\u001b[0m\u001b[1;33m(\u001b[0m\u001b[0mmaximum\u001b[0m\u001b[1;33m)\u001b[0m\u001b[1;33m)\u001b[0m\u001b[1;33m\u001b[0m\u001b[1;33m\u001b[0m\u001b[0m\n\u001b[0;32m     13\u001b[0m \u001b[1;33m\u001b[0m\u001b[0m\n",
      "\u001b[1;31mAttributeError\u001b[0m: 'function' object has no attribute 'pop'"
     ]
    }
   ],
   "source": [
    "example_list = [100, 100, 50, 75, 50, 25, 25, 25]\n",
    "example_list_1 = [1, 2, 3, 4, 100]\n",
    "example_list_2 = [1, 1, 5, 5, 10, 8, 7]\n",
    "def centered_average(val):\n",
    "\n",
    "    avg = 0\n",
    "\n",
    "    minimum = min(val)\n",
    "    maximum = max(val)\n",
    "\n",
    "    input.pop(input.index(minimum))\n",
    "    input.pop(input.index(maximum))\n",
    "\n",
    "    avg =  round(sum(input) / len(input))\n",
    "\n",
    "    return avg\n",
    "\n",
    "centered_average(example_list)"
   ]
  }
 ],
 "metadata": {
  "kernelspec": {
   "display_name": "Python 3 (ipykernel)",
   "language": "python",
   "name": "python3"
  },
  "language_info": {
   "codemirror_mode": {
    "name": "ipython",
    "version": 3
   },
   "file_extension": ".py",
   "mimetype": "text/x-python",
   "name": "python",
   "nbconvert_exporter": "python",
   "pygments_lexer": "ipython3",
   "version": "3.9.7"
  }
 },
 "nbformat": 4,
 "nbformat_minor": 4
}
