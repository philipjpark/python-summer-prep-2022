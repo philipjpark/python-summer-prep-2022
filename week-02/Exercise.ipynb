{
 "cells": [
  {
   "cell_type": "markdown",
   "id": "ee05231b",
   "metadata": {},
   "source": [
    "# Problem Alphabet Slices\n",
    "- Store the first ten letters of the alphabet in a list.\n",
    "- Use a slice to print out the first three letters of the alphabet.\n",
    "- Use a slice to print out any three letters from the middle of your list.\n"
   ]
  },
  {
   "cell_type": "code",
   "execution_count": 3,
   "id": "6a8c3129",
   "metadata": {},
   "outputs": [
    {
     "name": "stdout",
     "output_type": "stream",
     "text": [
      "['a', 'b', 'c']\n",
      "['d', 'e', 'f']\n",
      "hello world\n"
     ]
    }
   ],
   "source": [
    "# Solve Alphabet slices here. \n",
    "\n",
    "letters = ['a','b','c','d','e','f','g','h','i','j']\n",
    "\n",
    "print(letters[0:3])\n",
    "print(letters[3:6])\n",
    "\n",
    "\n",
    "print(\"hello world\")"
   ]
  },
  {
   "cell_type": "markdown",
   "id": "020aab46",
   "metadata": {},
   "source": [
    "# Problem: Covert all the rapper names to title case and save them into a new different list.\n",
    "\n",
    "example: lil wayne becomes Lil Wayne"
   ]
  },
  {
   "cell_type": "code",
   "execution_count": 6,
   "id": "9e158bab",
   "metadata": {},
   "outputs": [
    {
     "name": "stdout",
     "output_type": "stream",
     "text": [
      "['Lil Wayne', 'Nicki Minaj', 'Drake']\n"
     ]
    }
   ],
   "source": [
    "# Solve rapper names here\n",
    "rappers = ['lil wayne', 'nicki minaj', 'drake']\n",
    "new = []\n",
    "for name in rappers:\n",
    "    name = name.title()\n",
    "    new.append(name)\n",
    "    \n",
    "print(new)"
   ]
  },
  {
   "cell_type": "markdown",
   "id": "5ade4a53",
   "metadata": {},
   "source": [
    "# Problem: Write a function thats input is a number and output is:\n",
    "- Return True if the input number is even.\n",
    "- Return False if the input number is odd."
   ]
  },
  {
   "cell_type": "code",
   "execution_count": 8,
   "id": "8ee87387",
   "metadata": {},
   "outputs": [
    {
     "data": {
      "text/plain": [
       "True"
      ]
     },
     "execution_count": 8,
     "metadata": {},
     "output_type": "execute_result"
    }
   ],
   "source": [
    "def evenOrOdd(num):\n",
    "    if(num % 2 == 0):\n",
    "        return True\n",
    "    return False\n",
    "\n",
    "evenOrOdd(6)"
   ]
  },
  {
   "cell_type": "markdown",
   "id": "700e6e6e",
   "metadata": {},
   "source": [
    "# Problem: Find the sum and the average of this list of numbers.\n",
    "\n",
    "Try doing this using a loop. Then try doing this without using a loop."
   ]
  },
  {
   "cell_type": "code",
   "execution_count": 9,
   "id": "7fccf237",
   "metadata": {},
   "outputs": [
    {
     "name": "stdout",
     "output_type": "stream",
     "text": [
      "353 35.3\n"
     ]
    }
   ],
   "source": [
    "# Solve problem here:\n",
    "\n",
    "my_list = [1, 5, 10, 55, 88, 44, 42, 50, 20, 38]\n",
    "# list_sum = ???\n",
    "# list_avg = ???\n",
    "\n",
    "list_sum = 0\n",
    "\n",
    "# With a loop\n",
    "for i in my_list:\n",
    "    list_sum += i    \n",
    "list_average = list_sum/len(my_list)\n",
    "\n",
    "# Without a loop\n",
    "list_sum = sum(my_list)\n",
    "list_average = list_sum/len(my_list)\n",
    "\n",
    "\n",
    "# Keep this as your last line in this cell.\n",
    "print(list_sum, list_average)"
   ]
  },
  {
   "cell_type": "markdown",
   "id": "1660e0ff",
   "metadata": {},
   "source": [
    "# Problem: Write a function that input is a number and output returns the following\n",
    "\n",
    "- If the input is divisible by three, return 'fizz'\n",
    "- If the input is divisible by five, return 'buzz'\n",
    "- If the input is divisible by three and by five, return 'fizzbuzz'\n",
    "- If the input is not divisible by three or five, return None."
   ]
  },
  {
   "cell_type": "code",
   "execution_count": 11,
   "id": "3ac5e0fb",
   "metadata": {},
   "outputs": [
    {
     "data": {
      "text/plain": [
       "'buzz'"
      ]
     },
     "execution_count": 11,
     "metadata": {},
     "output_type": "execute_result"
    }
   ],
   "source": [
    "# Solve Problem fizzbuzz here:\n",
    "\n",
    "def fizzbuzz(num):\n",
    "    if (num % 3 == 0 & num % 5 == 0):\n",
    "        return 'fizzbuzz'\n",
    "    elif (num % 3 == 0):\n",
    "        return 'fizz'\n",
    "    elif (num % 5 == 0):\n",
    "        return 'buzz'\n",
    "    else:\n",
    "        return None\n",
    "    \n",
    "    \n",
    "fizzbuzz(10)"
   ]
  },
  {
   "cell_type": "markdown",
   "id": "7f79ecb8",
   "metadata": {},
   "source": [
    "# Problem:\n",
    "\n",
    "Write a function that takes a list and returns a new list that contains all the elements of the first list minus all the duplicates.\n",
    "\n",
    "Example input and expected output\n",
    "\n",
    "input = [\"Michele\", \"Robin\", \"Sara\", \"Michele\"]\n",
    "\n",
    "expected output = ['Michele', 'Robin', 'Sara']"
   ]
  },
  {
   "cell_type": "code",
   "execution_count": 12,
   "id": "eb471620",
   "metadata": {},
   "outputs": [
    {
     "data": {
      "text/plain": [
       "['Michele', 'Robin', 'Sara']"
      ]
     },
     "execution_count": 12,
     "metadata": {},
     "output_type": "execute_result"
    }
   ],
   "source": [
    "# Solve problem here:\n",
    "\n",
    "names = [\"Michele\", \"Robin\", \"Sara\", \"Michele\"]\n",
    "\n",
    "def remove_duplicates(a):\n",
    "    none = []\n",
    "    \n",
    "    for name in names:\n",
    "        if (name not in none):\n",
    "            none.append(name)\n",
    "    \n",
    "    return none\n",
    "\n",
    "remove_duplicates(names)"
   ]
  },
  {
   "cell_type": "markdown",
   "id": "5af558a6",
   "metadata": {},
   "source": [
    "# Problem:\n",
    "Write a function that takes a list of numbers (for example, a = [5, 10, 15, 20, 25]) and returns a new list of only the first and last elements of the given list.\n",
    "\n",
    "Example input and expected output:\n",
    "\n",
    "input = [5, 10, 15, 20, 25]\n",
    "\n",
    "expected output = [5, 25]"
   ]
  },
  {
   "cell_type": "code",
   "execution_count": 16,
   "id": "30661a0c",
   "metadata": {},
   "outputs": [
    {
     "data": {
      "text/plain": [
       "[5, 25]"
      ]
     },
     "execution_count": 16,
     "metadata": {},
     "output_type": "execute_result"
    }
   ],
   "source": [
    "# Solve problem here:\n",
    "input_list = [5, 10, 99, 20, 25]\n",
    "\n",
    "def end_begin(n):\n",
    "    newArr = []\n",
    "    newArr.append(n[0])\n",
    "    newArr.append(n[-1])\n",
    "    return newArr\n",
    "\n",
    "end_begin(input_list)"
   ]
  },
  {
   "cell_type": "markdown",
   "id": "2110010e",
   "metadata": {},
   "source": [
    "# Problem: Implement a function that takes as input three variables, and returns the largest of the three.\n",
    "\n",
    "Do this without using the Python max() function! _*Note all three input numbers will always be different, no need to account for a tie._\n",
    "\n",
    "Example input and expected output:\n",
    "\n",
    "input = your_function(1, 5, 10)\n",
    "\n",
    "expected output: 10"
   ]
  },
  {
   "cell_type": "code",
   "execution_count": 1,
   "id": "7061eca9",
   "metadata": {},
   "outputs": [],
   "source": [
    "# Solve Problem here:\n",
    "\n",
    "\n",
    "def your_function(a, b, c):\n",
    "    # Fill in your code below and return max value of a, b, c\n",
    "    large = a\n",
    "    if (a > b) & (a > c):\n",
    "        large = a\n",
    "        \n",
    "    if (b > a) & (b > c):\n",
    "        large = b\n",
    "    \n",
    "    if(c > a) & (c > b):\n",
    "        large = c\n",
    "        \n",
    "    return large\n",
    "    "
   ]
  },
  {
   "cell_type": "code",
   "execution_count": 2,
   "id": "67ce5dfe",
   "metadata": {},
   "outputs": [
    {
     "data": {
      "text/plain": [
       "10"
      ]
     },
     "execution_count": 2,
     "metadata": {},
     "output_type": "execute_result"
    }
   ],
   "source": [
    "# Test to see if your function works properly.\n",
    "your_function(1, 5, 10)"
   ]
  }
 ],
 "metadata": {
  "kernelspec": {
   "display_name": "Python 3 (ipykernel)",
   "language": "python",
   "name": "python3"
  },
  "language_info": {
   "codemirror_mode": {
    "name": "ipython",
    "version": 3
   },
   "file_extension": ".py",
   "mimetype": "text/x-python",
   "name": "python",
   "nbconvert_exporter": "python",
   "pygments_lexer": "ipython3",
   "version": "3.9.7"
  }
 },
 "nbformat": 4,
 "nbformat_minor": 5
}
